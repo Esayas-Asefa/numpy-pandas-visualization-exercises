{
 "cells": [
  {
   "cell_type": "code",
   "execution_count": 14,
   "id": "b64d0611",
   "metadata": {},
   "outputs": [],
   "source": [
    "import pandas as pd\n",
    "import numpy as np\n",
    "from pydataset import data\n",
    "import matplotlib.pyplot as plt"
   ]
  },
  {
   "cell_type": "code",
   "execution_count": 6,
   "id": "96a2ff6f",
   "metadata": {},
   "outputs": [
    {
     "name": "stdout",
     "output_type": "stream",
     "text": [
      "0    hnvidduckkqxwymbimkccexbkmqygkxoyndmcxnwqarhyffsjpsrabtjzsypmzadfavyrnndndvswreauxovnc...\n",
      "dtype: object\n"
     ]
    }
   ],
   "source": [
    "letters = pd.Series(['hnvidduckkqxwymbimkccexbkmqygkxoyndmcxnwqarhyffsjpsrabtjzsypmzadfavyrnndndvswreauxovncxtwzpwejilzjrmmbbgbyxvjtewqthafnbkqplarokkyydtubbmnexoypulzwfhqvckdpqtpoppzqrmcvhhpwgjwupgzhiofohawytlsiyecuproguy'\n",
    "])\n",
    "\n",
    "print(letters)"
   ]
  },
  {
   "cell_type": "code",
   "execution_count": 11,
   "id": "95aa3dbf",
   "metadata": {},
   "outputs": [],
   "source": [
    "letters = pd.Series(list(letters))"
   ]
  },
  {
   "cell_type": "code",
   "execution_count": null,
   "id": "3ab86f40",
   "metadata": {},
   "outputs": [],
   "source": [
    "Which letter occurs the most frequently in the letters Series?"
   ]
  },
  {
   "cell_type": "code",
   "execution_count": 12,
   "id": "69f0007d",
   "metadata": {},
   "outputs": [
    {
     "data": {
      "text/plain": [
       "1"
      ]
     },
     "execution_count": 12,
     "metadata": {},
     "output_type": "execute_result"
    }
   ],
   "source": [
    "letters.value_counts().max()"
   ]
  },
  {
   "cell_type": "code",
   "execution_count": 15,
   "id": "135ad88e",
   "metadata": {},
   "outputs": [
    {
     "data": {
      "text/plain": [
       "'hnvidduckkqxwymbimkccexbkmqygkxoyndmcxnwqarhyffsjpsrabtjzsypmzadfavyrnndndvswreauxovncxtwzpwejilzjrmmbbgbyxvjtewqthafnbkqplarokkyydtubbmnexoypulzwfhqvckdpqtpoppzqrmcvhhpwgjwupgzhiofohawytlsiyecuproguy'"
      ]
     },
     "execution_count": 15,
     "metadata": {},
     "output_type": "execute_result"
    }
   ],
   "source": [
    "letters.value_counts().idxmax()"
   ]
  },
  {
   "cell_type": "code",
   "execution_count": null,
   "id": "bbb52bd2",
   "metadata": {},
   "outputs": [],
   "source": [
    "Which letter occurs the Least frequently?"
   ]
  },
  {
   "cell_type": "code",
   "execution_count": 16,
   "id": "87c99b79",
   "metadata": {},
   "outputs": [
    {
     "data": {
      "text/plain": [
       "hnvidduckkqxwymbimkccexbkmqygkxoyndmcxnwqarhyffsjpsrabtjzsypmzadfavyrnndndvswreauxovncxtwzpwejilzjrmmbbgbyxvjtewqthafnbkqplarokkyydtubbmnexoypulzwfhqvckdpqtpoppzqrmcvhhpwgjwupgzhiofohawytlsiyecuproguy    1\n",
       "dtype: int64"
      ]
     },
     "execution_count": 16,
     "metadata": {},
     "output_type": "execute_result"
    }
   ],
   "source": [
    "letters.value_counts()"
   ]
  },
  {
   "cell_type": "code",
   "execution_count": null,
   "id": "01f9e399",
   "metadata": {},
   "outputs": [],
   "source": [
    "How many vowels are in the Series?"
   ]
  },
  {
   "cell_type": "code",
   "execution_count": 17,
   "id": "2007dcf4",
   "metadata": {},
   "outputs": [],
   "source": [
    "def is_vowel(some_word):\n",
    "    return some_word in ['a', 'e', 'i', 'o', 'u']"
   ]
  },
  {
   "cell_type": "code",
   "execution_count": null,
   "id": "a63d82a6",
   "metadata": {},
   "outputs": [],
   "source": [
    "How many consonants are in the Series?"
   ]
  },
  {
   "cell_type": "code",
   "execution_count": 18,
   "id": "3613f619",
   "metadata": {},
   "outputs": [
    {
     "data": {
      "text/plain": [
       "0"
      ]
     },
     "execution_count": 18,
     "metadata": {},
     "output_type": "execute_result"
    }
   ],
   "source": [
    "letters.str.lower().apply(is_vowel).sum()"
   ]
  },
  {
   "cell_type": "code",
   "execution_count": null,
   "id": "0be8b751",
   "metadata": {},
   "outputs": [],
   "source": [
    "Create a Series that has all of the same letters but uppercased."
   ]
  },
  {
   "cell_type": "code",
   "execution_count": null,
   "id": "b9f447b3",
   "metadata": {},
   "outputs": [],
   "source": []
  },
  {
   "cell_type": "code",
   "execution_count": null,
   "id": "5a12e0e0",
   "metadata": {},
   "outputs": [],
   "source": [
    "Create a bar plot of the frequencies of the 6 most commonly occuring letters."
   ]
  }
 ],
 "metadata": {
  "kernelspec": {
   "display_name": "Python 3 (ipykernel)",
   "language": "python",
   "name": "python3"
  },
  "language_info": {
   "codemirror_mode": {
    "name": "ipython",
    "version": 3
   },
   "file_extension": ".py",
   "mimetype": "text/x-python",
   "name": "python",
   "nbconvert_exporter": "python",
   "pygments_lexer": "ipython3",
   "version": "3.9.13"
  }
 },
 "nbformat": 4,
 "nbformat_minor": 5
}
