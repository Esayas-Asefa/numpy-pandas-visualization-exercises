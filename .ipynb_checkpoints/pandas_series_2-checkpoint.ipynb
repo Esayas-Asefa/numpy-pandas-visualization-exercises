{
 "cells": [
  {
   "cell_type": "code",
   "execution_count": 1,
   "id": "d997e7a2",
   "metadata": {},
   "outputs": [],
   "source": [
    "import pandas as pd\n",
    "import numpy as np\n",
    "from pydataset import data"
   ]
  },
  {
   "cell_type": "code",
   "execution_count": null,
   "id": "084f025b",
   "metadata": {},
   "outputs": [],
   "source": []
  },
  {
   "cell_type": "code",
   "execution_count": null,
   "id": "6ea60ba3",
   "metadata": {},
   "outputs": [],
   "source": [
    "1. Capitalize all the string values in fruits."
   ]
  },
  {
   "cell_type": "code",
   "execution_count": 2,
   "id": "95b95275",
   "metadata": {},
   "outputs": [],
   "source": [
    "fruits = [\"kiwi\", \"mango\", \"strawberry\", \"pineapple\", \"gala apple\", \"honeycrisp apple\", \"tomato\", \"watermelon\", \n",
    "\"honeydew\", \"kiwi\", \"kiwi\", \"kiwi\", \"mango\", \"blueberry\", \"blackberry\", \"gooseberry\", \"papaya\"]\n",
    "my_fruits = pd.Series(fruits)"
   ]
  },
  {
   "cell_type": "code",
   "execution_count": null,
   "id": "f6c79548",
   "metadata": {},
   "outputs": [],
   "source": []
  },
  {
   "cell_type": "code",
   "execution_count": 3,
   "id": "83d5e391",
   "metadata": {},
   "outputs": [
    {
     "data": {
      "text/plain": [
       "0                 Kiwi\n",
       "1                Mango\n",
       "2           Strawberry\n",
       "3            Pineapple\n",
       "4           Gala apple\n",
       "5     Honeycrisp apple\n",
       "6               Tomato\n",
       "7           Watermelon\n",
       "8             Honeydew\n",
       "9                 Kiwi\n",
       "10                Kiwi\n",
       "11                Kiwi\n",
       "12               Mango\n",
       "13           Blueberry\n",
       "14          Blackberry\n",
       "15          Gooseberry\n",
       "16              Papaya\n",
       "dtype: object"
      ]
     },
     "execution_count": 3,
     "metadata": {},
     "output_type": "execute_result"
    }
   ],
   "source": [
    "my_fruits.str.capitalize()"
   ]
  },
  {
   "cell_type": "code",
   "execution_count": null,
   "id": "95fdc922",
   "metadata": {},
   "outputs": [],
   "source": [
    "2. Count the letter \"a\" in all the string values (use string vectorization)."
   ]
  },
  {
   "cell_type": "code",
   "execution_count": 8,
   "id": "08f91669",
   "metadata": {},
   "outputs": [
    {
     "data": {
      "text/plain": [
       "14"
      ]
     },
     "execution_count": 8,
     "metadata": {},
     "output_type": "execute_result"
    }
   ],
   "source": [
    "sum(my_fruits.str.count('a'))"
   ]
  },
  {
   "cell_type": "code",
   "execution_count": null,
   "id": "47577a1d",
   "metadata": {},
   "outputs": [],
   "source": [
    "3. Output the number of vowels in each and every string value."
   ]
  },
  {
   "cell_type": "code",
   "execution_count": 12,
   "id": "3f3a2a65",
   "metadata": {},
   "outputs": [
    {
     "data": {
      "text/plain": [
       "0     2\n",
       "1     2\n",
       "2     2\n",
       "3     4\n",
       "4     4\n",
       "5     5\n",
       "6     3\n",
       "7     4\n",
       "8     3\n",
       "9     2\n",
       "10    2\n",
       "11    2\n",
       "12    2\n",
       "13    3\n",
       "14    2\n",
       "15    4\n",
       "16    3\n",
       "dtype: int64"
      ]
     },
     "execution_count": 12,
     "metadata": {},
     "output_type": "execute_result"
    }
   ],
   "source": [
    "my_fruits.str.lower().str.count(r'[aeiou]')"
   ]
  },
  {
   "cell_type": "code",
   "execution_count": null,
   "id": "ff2fc222",
   "metadata": {},
   "outputs": [],
   "source": [
    "4. Write the code to get the longest string value from fruits."
   ]
  },
  {
   "cell_type": "code",
   "execution_count": 13,
   "id": "ecb33391",
   "metadata": {},
   "outputs": [
    {
     "data": {
      "text/plain": [
       "'honeycrisp apple'"
      ]
     },
     "execution_count": 13,
     "metadata": {},
     "output_type": "execute_result"
    }
   ],
   "source": [
    "max(my_fruits, key=len) "
   ]
  },
  {
   "cell_type": "code",
   "execution_count": null,
   "id": "b0be7820",
   "metadata": {},
   "outputs": [],
   "source": [
    "5. Write the code to get the string values with 5 or more letters in the name."
   ]
  },
  {
   "cell_type": "code",
   "execution_count": 109,
   "id": "653d3c34",
   "metadata": {
    "scrolled": false
   },
   "outputs": [
    {
     "data": {
      "text/plain": [
       "0                      []\n",
       "1                 [mango]\n",
       "2            [strawberry]\n",
       "3             [pineapple]\n",
       "4                 [apple]\n",
       "5     [honeycrisp, apple]\n",
       "6                [tomato]\n",
       "7            [watermelon]\n",
       "8              [honeydew]\n",
       "9                      []\n",
       "10                     []\n",
       "11                     []\n",
       "12                [mango]\n",
       "13            [blueberry]\n",
       "14           [blackberry]\n",
       "15           [gooseberry]\n",
       "16               [papaya]\n",
       "dtype: object"
      ]
     },
     "execution_count": 109,
     "metadata": {},
     "output_type": "execute_result"
    }
   ],
   "source": [
    "#def five_or_more(i):\n",
    " #   if i >= 5:\n",
    " #       print(i)\n",
    "    \n",
    "#for i in my_fruits.str.len():\n",
    " #   print(my_fruits.str.len() where i >= 5)\n",
    "\n",
    "pat = r'\\b\\w{5,}\\b'\n",
    "my_fruits.str.findall(pat)"
   ]
  },
  {
   "cell_type": "code",
   "execution_count": null,
   "id": "c619100d",
   "metadata": {},
   "outputs": [],
   "source": [
    "6. Find the fruit(s) containing the letter \"o\" two or more times."
   ]
  },
  {
   "cell_type": "code",
   "execution_count": 124,
   "id": "b1c91a39",
   "metadata": {},
   "outputs": [
    {
     "data": {
      "text/plain": [
       "6         tomato\n",
       "15    gooseberry\n",
       "dtype: object"
      ]
     },
     "execution_count": 124,
     "metadata": {},
     "output_type": "execute_result"
    }
   ],
   "source": [
    "with_o = my_fruits.str.count('o')\n",
    "with_o\n",
    "\n",
    "result = my_fruits[with_o >= 2]\n",
    "result\n",
    "#my_fruits.str.findall(with_o)\n",
    "\n",
    "#if my_fruits.str.findall('o'):\n",
    "#    print(my_fruits.str)\n",
    "#print(my_fruits.str.contains('o'))"
   ]
  },
  {
   "cell_type": "code",
   "execution_count": null,
   "id": "30c4b8a0",
   "metadata": {},
   "outputs": [],
   "source": [
    "7. Write the code to get only the string values containing the substring \"berry\"."
   ]
  },
  {
   "cell_type": "code",
   "execution_count": 127,
   "id": "6d272f54",
   "metadata": {},
   "outputs": [
    {
     "data": {
      "text/plain": [
       "2     strawberry\n",
       "13     blueberry\n",
       "14    blackberry\n",
       "15    gooseberry\n",
       "dtype: object"
      ]
     },
     "execution_count": 127,
     "metadata": {},
     "output_type": "execute_result"
    }
   ],
   "source": [
    "my_fruits_with_berry = my_fruits.str.contains('berry')\n",
    "my_fruits_b = my_fruits[my_fruits_with_berry]\n",
    "my_fruits_b"
   ]
  },
  {
   "cell_type": "code",
   "execution_count": null,
   "id": "56781d7e",
   "metadata": {},
   "outputs": [],
   "source": [
    "8. Write the code to get only the string values containing the substring \"apple\"."
   ]
  },
  {
   "cell_type": "code",
   "execution_count": 129,
   "id": "9f2f3d89",
   "metadata": {},
   "outputs": [
    {
     "data": {
      "text/plain": [
       "3           pineapple\n",
       "4          gala apple\n",
       "5    honeycrisp apple\n",
       "dtype: object"
      ]
     },
     "execution_count": 129,
     "metadata": {},
     "output_type": "execute_result"
    }
   ],
   "source": [
    "my_fruits_with_a = my_fruits.str.contains('apple')\n",
    "my_fruits_with_apple = my_fruits[my_fruits_with_a]\n",
    "my_fruits_with_apple"
   ]
  },
  {
   "cell_type": "code",
   "execution_count": null,
   "id": "32ef500a",
   "metadata": {},
   "outputs": [],
   "source": [
    "9. Which string value contains the most vowels?"
   ]
  },
  {
   "cell_type": "code",
   "execution_count": 162,
   "id": "f8dcfc67",
   "metadata": {
    "scrolled": false
   },
   "outputs": [
    {
     "data": {
      "text/plain": [
       "'honeycrisp apple'"
      ]
     },
     "execution_count": 162,
     "metadata": {},
     "output_type": "execute_result"
    }
   ],
   "source": [
    "#my_fruits.str.count(r'[aeiou]')\n",
    "My_f_max_vowels = max(my_fruits.str.count(r'[aeiou]'))\n",
    "my_f = my_fruits[My_f_max_vowels]\n",
    "my_f"
   ]
  },
  {
   "cell_type": "code",
   "execution_count": null,
   "id": "61a687f4",
   "metadata": {},
   "outputs": [],
   "source": []
  }
 ],
 "metadata": {
  "kernelspec": {
   "display_name": "Python 3 (ipykernel)",
   "language": "python",
   "name": "python3"
  },
  "language_info": {
   "codemirror_mode": {
    "name": "ipython",
    "version": 3
   },
   "file_extension": ".py",
   "mimetype": "text/x-python",
   "name": "python",
   "nbconvert_exporter": "python",
   "pygments_lexer": "ipython3",
   "version": "3.9.13"
  }
 },
 "nbformat": 4,
 "nbformat_minor": 5
}
