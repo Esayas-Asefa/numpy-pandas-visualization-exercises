{
 "cells": [
  {
   "cell_type": "code",
   "execution_count": 46,
   "id": "a11dad6d",
   "metadata": {},
   "outputs": [],
   "source": [
    "import numpy as np\n",
    "import scipy.stats as stats\n",
    "\n",
    "a = np.array([4, 10, 12, 23, -2, -1, 0, 0, 0, -6, 3, -7])"
   ]
  },
  {
   "cell_type": "code",
   "execution_count": 11,
   "id": "aa435aa7",
   "metadata": {},
   "outputs": [
    {
     "data": {
      "text/plain": [
       "4"
      ]
     },
     "execution_count": 11,
     "metadata": {},
     "output_type": "execute_result"
    }
   ],
   "source": [
    "np.count_nonzero(a[a < 0])"
   ]
  },
  {
   "cell_type": "code",
   "execution_count": 12,
   "id": "42996649",
   "metadata": {},
   "outputs": [
    {
     "data": {
      "text/plain": [
       "5"
      ]
     },
     "execution_count": 12,
     "metadata": {},
     "output_type": "execute_result"
    }
   ],
   "source": [
    "np.count_nonzero(a[a > 0])"
   ]
  },
  {
   "cell_type": "code",
   "execution_count": 30,
   "id": "236b39ec",
   "metadata": {
    "scrolled": false
   },
   "outputs": [],
   "source": [
    "mask = [True, True, True, False, False, False, False, False, False, False, False, False]"
   ]
  },
  {
   "cell_type": "code",
   "execution_count": 31,
   "id": "25bcd5f5",
   "metadata": {},
   "outputs": [
    {
     "name": "stdout",
     "output_type": "stream",
     "text": [
      "[ 4 10 12]\n"
     ]
    }
   ],
   "source": [
    "print(a[mask])"
   ]
  },
  {
   "cell_type": "code",
   "execution_count": 32,
   "id": "45f575f2",
   "metadata": {},
   "outputs": [
    {
     "data": {
      "text/plain": [
       "3"
      ]
     },
     "execution_count": 32,
     "metadata": {},
     "output_type": "execute_result"
    }
   ],
   "source": [
    "np.count_nonzero(a[mask])"
   ]
  },
  {
   "cell_type": "code",
   "execution_count": 33,
   "id": "7d752711",
   "metadata": {},
   "outputs": [
    {
     "data": {
      "text/plain": [
       "array([ 7, 13, 15, 26,  1,  2,  3,  3,  3, -3,  6, -4])"
      ]
     },
     "execution_count": 33,
     "metadata": {},
     "output_type": "execute_result"
    }
   ],
   "source": [
    "a + 3"
   ]
  },
  {
   "cell_type": "code",
   "execution_count": 34,
   "id": "52936a4d",
   "metadata": {},
   "outputs": [
    {
     "data": {
      "text/plain": [
       "5"
      ]
     },
     "execution_count": 34,
     "metadata": {},
     "output_type": "execute_result"
    }
   ],
   "source": [
    "np.count_nonzero(a[a > 0])"
   ]
  },
  {
   "cell_type": "code",
   "execution_count": null,
   "id": "7647e5ea",
   "metadata": {},
   "outputs": [],
   "source": [
    "#If you squared each number, what would the new mean and standard \n",
    "#deviation be?"
   ]
  },
  {
   "cell_type": "code",
   "execution_count": 39,
   "id": "003362f9",
   "metadata": {},
   "outputs": [],
   "source": [
    "a1 = a ** 2"
   ]
  },
  {
   "cell_type": "code",
   "execution_count": 40,
   "id": "f6c81113",
   "metadata": {},
   "outputs": [
    {
     "data": {
      "text/plain": [
       "74.0"
      ]
     },
     "execution_count": 40,
     "metadata": {},
     "output_type": "execute_result"
    }
   ],
   "source": [
    "np.mean(a1)"
   ]
  },
  {
   "cell_type": "code",
   "execution_count": 41,
   "id": "898f40ee",
   "metadata": {},
   "outputs": [
    {
     "data": {
      "text/plain": [
       "144.0243035046516"
      ]
     },
     "execution_count": 41,
     "metadata": {},
     "output_type": "execute_result"
    }
   ],
   "source": [
    "np.std(a1)"
   ]
  },
  {
   "cell_type": "code",
   "execution_count": null,
   "id": "19238b97",
   "metadata": {},
   "outputs": [],
   "source": [
    "# A common statistical operation on a dataset is centering. \n",
    "# This means to adjust the data such that the mean of the data is 0. \n",
    "# This is done by subtracting the mean from each data point. \n",
    "#Center the data set. See this link for more on centering."
   ]
  },
  {
   "cell_type": "code",
   "execution_count": 42,
   "id": "7931ed6d",
   "metadata": {},
   "outputs": [
    {
     "data": {
      "text/plain": [
       "array([-58,  26,  70, 455, -70, -73, -74, -74, -74, -38, -65, -25])"
      ]
     },
     "execution_count": 42,
     "metadata": {},
     "output_type": "execute_result"
    }
   ],
   "source": [
    "a1 - 74"
   ]
  },
  {
   "cell_type": "code",
   "execution_count": null,
   "id": "ae7364e6",
   "metadata": {},
   "outputs": [],
   "source": [
    "#Calculate the z-score for each data point. Recall that the z-score is given by:"
   ]
  },
  {
   "cell_type": "code",
   "execution_count": 47,
   "id": "303f2156",
   "metadata": {},
   "outputs": [
    {
     "data": {
      "text/plain": [
       "array([ 0.12403473,  0.86824314,  1.11631261,  2.48069469, -0.62017367,\n",
       "       -0.49613894, -0.3721042 , -0.3721042 , -0.3721042 , -1.11631261,\n",
       "        0.        , -1.24034735])"
      ]
     },
     "execution_count": 47,
     "metadata": {},
     "output_type": "execute_result"
    }
   ],
   "source": [
    "stats.zscore(a)"
   ]
  },
  {
   "cell_type": "code",
   "execution_count": null,
   "id": "99f10961",
   "metadata": {},
   "outputs": [],
   "source": [
    "# Make a variable called sum_of_a to hold the sum of all the numbers in above list"
   ]
  },
  {
   "cell_type": "code",
   "execution_count": 48,
   "id": "9ee164e7",
   "metadata": {},
   "outputs": [
    {
     "data": {
      "text/plain": [
       "36"
      ]
     },
     "execution_count": 48,
     "metadata": {},
     "output_type": "execute_result"
    }
   ],
   "source": [
    "sum(a)"
   ]
  },
  {
   "cell_type": "code",
   "execution_count": null,
   "id": "44cdbaa3",
   "metadata": {},
   "outputs": [],
   "source": [
    "# Exercise 2 - Make a variable named min_of_a to hold the minimum of \n",
    "#all the numbers in the above list"
   ]
  },
  {
   "cell_type": "code",
   "execution_count": 49,
   "id": "94bae878",
   "metadata": {},
   "outputs": [
    {
     "data": {
      "text/plain": [
       "-7"
      ]
     },
     "execution_count": 49,
     "metadata": {},
     "output_type": "execute_result"
    }
   ],
   "source": [
    "min_of_a = min(a)"
   ]
  },
  {
   "cell_type": "code",
   "execution_count": null,
   "id": "bf9cc9fd",
   "metadata": {},
   "outputs": [],
   "source": [
    "# Exercise 3 - Make a variable named max_of_a to hold the max number of \n",
    "# all the numbers in the above list"
   ]
  },
  {
   "cell_type": "code",
   "execution_count": 51,
   "id": "e5dcf454",
   "metadata": {},
   "outputs": [],
   "source": [
    "max_of_a = max(a)"
   ]
  },
  {
   "cell_type": "code",
   "execution_count": null,
   "id": "b3a64c68",
   "metadata": {},
   "outputs": [],
   "source": [
    "# Exercise 4 - Make a variable named mean_of_a to hold the average of all\n",
    "# the numbers in the above list"
   ]
  },
  {
   "cell_type": "code",
   "execution_count": 53,
   "id": "adcf91dc",
   "metadata": {},
   "outputs": [],
   "source": [
    "mean_of_a = np.mean(a)"
   ]
  },
  {
   "cell_type": "code",
   "execution_count": null,
   "id": "bddffd41",
   "metadata": {},
   "outputs": [],
   "source": [
    "# Exercise 5 - Make a variable named product_of_a to hold the product of \n",
    "# multiplying all the numbers in the above list together"
   ]
  },
  {
   "cell_type": "code",
   "execution_count": 54,
   "id": "c65e14f2",
   "metadata": {},
   "outputs": [],
   "source": [
    "product_of_a = np.product(a)"
   ]
  },
  {
   "cell_type": "code",
   "execution_count": null,
   "id": "c2c195fb",
   "metadata": {},
   "outputs": [],
   "source": [
    "# Exercise 6 - Make a variable named squares_of_a. It should hold each \n",
    "# number in a squared like [1, 4, 9, 16, 25...]"
   ]
  },
  {
   "cell_type": "code",
   "execution_count": 55,
   "id": "b9280d56",
   "metadata": {},
   "outputs": [],
   "source": [
    "squares_of_a = a ** 2"
   ]
  },
  {
   "cell_type": "code",
   "execution_count": null,
   "id": "3f389d9f",
   "metadata": {},
   "outputs": [],
   "source": [
    "# Exercise 7 - Make a variable named odds_in_a. It should hold only the \n",
    "# odd numbers"
   ]
  },
  {
   "cell_type": "code",
   "execution_count": null,
   "id": "71afaf0a",
   "metadata": {},
   "outputs": [],
   "source": [
    "odds_in_a = "
   ]
  },
  {
   "cell_type": "code",
   "execution_count": null,
   "id": "34ed2218",
   "metadata": {},
   "outputs": [],
   "source": [
    "# Exercise 8 - Make a variable named evens_in_a. It should hold only the evens."
   ]
  },
  {
   "cell_type": "code",
   "execution_count": null,
   "id": "0af258e1",
   "metadata": {},
   "outputs": [],
   "source": []
  },
  {
   "cell_type": "code",
   "execution_count": null,
   "id": "5577d559",
   "metadata": {},
   "outputs": [],
   "source": []
  },
  {
   "cell_type": "code",
   "execution_count": null,
   "id": "ce881863",
   "metadata": {},
   "outputs": [],
   "source": []
  },
  {
   "cell_type": "code",
   "execution_count": null,
   "id": "b02486f3",
   "metadata": {},
   "outputs": [],
   "source": []
  },
  {
   "cell_type": "code",
   "execution_count": null,
   "id": "b9d8f36f",
   "metadata": {},
   "outputs": [],
   "source": []
  },
  {
   "cell_type": "code",
   "execution_count": null,
   "id": "b00202f5",
   "metadata": {},
   "outputs": [],
   "source": []
  },
  {
   "cell_type": "code",
   "execution_count": null,
   "id": "a8356d2c",
   "metadata": {},
   "outputs": [],
   "source": []
  },
  {
   "cell_type": "code",
   "execution_count": null,
   "id": "c9650b40",
   "metadata": {},
   "outputs": [],
   "source": []
  },
  {
   "cell_type": "code",
   "execution_count": null,
   "id": "c9584c21",
   "metadata": {},
   "outputs": [],
   "source": []
  },
  {
   "cell_type": "code",
   "execution_count": null,
   "id": "54471209",
   "metadata": {},
   "outputs": [],
   "source": []
  },
  {
   "cell_type": "code",
   "execution_count": null,
   "id": "994734fb",
   "metadata": {},
   "outputs": [],
   "source": []
  },
  {
   "cell_type": "code",
   "execution_count": null,
   "id": "60e096c0",
   "metadata": {},
   "outputs": [],
   "source": []
  },
  {
   "cell_type": "code",
   "execution_count": null,
   "id": "4f75e2a2",
   "metadata": {},
   "outputs": [],
   "source": []
  }
 ],
 "metadata": {
  "kernelspec": {
   "display_name": "Python 3 (ipykernel)",
   "language": "python",
   "name": "python3"
  },
  "language_info": {
   "codemirror_mode": {
    "name": "ipython",
    "version": 3
   },
   "file_extension": ".py",
   "mimetype": "text/x-python",
   "name": "python",
   "nbconvert_exporter": "python",
   "pygments_lexer": "ipython3",
   "version": "3.9.13"
  }
 },
 "nbformat": 4,
 "nbformat_minor": 5
}
